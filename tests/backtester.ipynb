{
 "cells": [
  {
   "cell_type": "code",
   "execution_count": 1,
   "metadata": {},
   "outputs": [],
   "source": [
    "import os\n",
    "\n",
    "os.chdir('/Users/jerryinyang/Code/quantbt')"
   ]
  },
  {
   "cell_type": "code",
   "execution_count": 10,
   "metadata": {},
   "outputs": [],
   "source": [
    "import pickle\n",
    "import yfinance as yf # noqa\n",
    "import pandas as pd\n",
    "import os # noqa\n",
    "from models.pip_miner import PipMiner # noqa\n",
    "\n",
    "from alpha import BaseAlpha, EmaCrossover # noqa\n",
    "from backtester import Backtester\n",
    "from strategies import PipMinerStrategy, PipMinerAlpha # noqa\n",
    "from reporters import AutoReporter  # noqa: F401\n",
    "\n",
    "%matplotlib inline"
   ]
  },
  {
   "cell_type": "code",
   "execution_count": 11,
   "metadata": {},
   "outputs": [],
   "source": [
    "with open('/Users/jerryinyang/Code/quantbt/research/miner.pkl', 'rb') as f:\n",
    "    miner =  pickle.load(f)"
   ]
  },
  {
   "cell_type": "code",
   "execution_count": 12,
   "metadata": {},
   "outputs": [],
   "source": [
    "start_date = '2018-01-01'\n",
    "end_date = '2018-10-01'"
   ]
  },
  {
   "cell_type": "code",
   "execution_count": 13,
   "metadata": {},
   "outputs": [],
   "source": [
    "# Create DataHandler\n",
    "backtester = Backtester(start_date=start_date, end_date=end_date, max_exposure=.02)\n",
    "\n",
    "# Add Alpha\n",
    "backtester.add_alpha(PipMinerAlpha, miner=miner)\n",
    "# backtester.add_alpha(BaseAlpha, name='base_alpha', profit_perc=.1, loss_perc=.05)\n",
    "\n",
    "# Add Data\n",
    "ticker, df = 'BTCUSDT', pd.read_csv('/Users/jerryinyang/Code/quantbt/data/prices/BTCUSDT.csv')\n",
    "backtester.add_data(ticker=ticker, dataframe=df, date_column_index=0)\n",
    "\n",
    "# ticker, df = 'BTCUSDT', pd.read_parquet('/Users/jerryinyang/Code/quantbt/data/prices/BTCUSDT.parquet')\n",
    "# backtester.add_data(ticker=ticker, dataframe=df)"
   ]
  },
  {
   "cell_type": "code",
   "execution_count": 14,
   "metadata": {},
   "outputs": [
    {
     "name": "stdout",
     "output_type": "stream",
     "text": [
      "Initiating Backtest\n",
      "Backtest Complete. NET RETURN : 309.53630267237895\n"
     ]
    }
   ],
   "source": [
    "trades = backtester.backtest()"
   ]
  },
  {
   "cell_type": "code",
   "execution_count": 15,
   "metadata": {},
   "outputs": [],
   "source": [
    "# Use Reporter\n",
    "reporter = AutoReporter('full', 'full')\n",
    "reporter.compute_report(backtester)\n",
    "x = reporter.compute_earnings()\n",
    "\n",
    "# # Pickle the instance\n",
    "# with open('reporter.pkl', 'wb') as file:\n",
    "#     pickle.dump(reporter, file)"
   ]
  },
  {
   "cell_type": "code",
   "execution_count": 16,
   "metadata": {},
   "outputs": [],
   "source": [
    "x.to_csv('xxxxx.csv')"
   ]
  },
  {
   "cell_type": "code",
   "execution_count": 17,
   "metadata": {},
   "outputs": [
    {
     "name": "stderr",
     "output_type": "stream",
     "text": [
      "No artists with labels found to put in legend.  Note that artists whose label start with an underscore are ignored when legend() is called with no argument.\n"
     ]
    },
    {
     "data": {
      "image/png": "[encoded data removed]",
      "text/plain": [
       "<Figure size 1000x600 with 1 Axes>"
      ]
     },
     "metadata": {},
     "output_type": "display_data"
    }
   ],
   "source": [
    "reporter.compute_earnings()\n",
    "reporter.plot_equity_curves()"
   ]
  },
  {
   "cell_type": "code",
   "execution_count": 18,
   "metadata": {},
   "outputs": [
    {
     "data": {
      "text/html": [
       "<div>\n",
       "<style scoped>\n",
       "    .dataframe tbody tr th:only-of-type {\n",
       "        vertical-align: middle;\n",
       "    }\n",
       "\n",
       "    .dataframe tbody tr th {\n",
       "        vertical-align: top;\n",
       "    }\n",
       "\n",
       "    .dataframe thead th {\n",
       "        text-align: right;\n",
       "    }\n",
       "</style>\n",
       "<table border=\"1\" class=\"dataframe\">\n",
       "  <thead>\n",
       "    <tr style=\"text-align: right;\">\n",
       "      <th></th>\n",
       "      <th>id</th>\n",
       "      <th>net_profit</th>\n",
       "      <th>gross_profit</th>\n",
       "      <th>gross_loss</th>\n",
       "      <th>average_pnl</th>\n",
       "      <th>average_profit</th>\n",
       "      <th>average_loss</th>\n",
       "      <th>largest_profit</th>\n",
       "      <th>largest_loss</th>\n",
       "      <th>net_profit_percent</th>\n",
       "      <th>...</th>\n",
       "      <th>average_duration_losing</th>\n",
       "      <th>max_consecutive_wins</th>\n",
       "      <th>max_consecutive_losses</th>\n",
       "      <th>sharpe_ratio</th>\n",
       "      <th>cagr</th>\n",
       "      <th>sortino</th>\n",
       "      <th>kurtosis</th>\n",
       "      <th>skew</th>\n",
       "      <th>adjusted_sortino</th>\n",
       "      <th>risk_return_ratio</th>\n",
       "    </tr>\n",
       "  </thead>\n",
       "  <tbody>\n",
       "    <tr>\n",
       "      <th>0</th>\n",
       "      <td>baee9d80-f2c8-42aa-a562-9872e4b4c672</td>\n",
       "      <td>309.536303</td>\n",
       "      <td>707.910827</td>\n",
       "      <td>-398.374525</td>\n",
       "      <td>6.317067</td>\n",
       "      <td>24.410718</td>\n",
       "      <td>-20.96708</td>\n",
       "      <td>109.120664</td>\n",
       "      <td>-55.130192</td>\n",
       "      <td>0.309311</td>\n",
       "      <td>...</td>\n",
       "      <td>0 days 00:00:00.000021600</td>\n",
       "      <td>5</td>\n",
       "      <td>6</td>\n",
       "      <td>0.093046</td>\n",
       "      <td>0.002857</td>\n",
       "      <td>0.142259</td>\n",
       "      <td>193.551067</td>\n",
       "      <td>3.804045</td>\n",
       "      <td>0.100593</td>\n",
       "      <td>0.007849</td>\n",
       "    </tr>\n",
       "  </tbody>\n",
       "</table>\n",
       "<p>1 rows × 40 columns</p>\n",
       "</div>"
      ],
      "text/plain": [
       "                                     id  net_profit  gross_profit  gross_loss  \\\n",
       "0  baee9d80-f2c8-42aa-a562-9872e4b4c672  309.536303    707.910827 -398.374525   \n",
       "\n",
       "   average_pnl  average_profit  average_loss  largest_profit  largest_loss  \\\n",
       "0     6.317067       24.410718     -20.96708      109.120664    -55.130192   \n",
       "\n",
       "   net_profit_percent  ...   average_duration_losing  max_consecutive_wins  \\\n",
       "0            0.309311  ... 0 days 00:00:00.000021600                     5   \n",
       "\n",
       "   max_consecutive_losses  sharpe_ratio      cagr   sortino    kurtosis  \\\n",
       "0                       6      0.093046  0.002857  0.142259  193.551067   \n",
       "\n",
       "       skew  adjusted_sortino  risk_return_ratio  \n",
       "0  3.804045          0.100593           0.007849  \n",
       "\n",
       "[1 rows x 40 columns]"
      ]
     },
     "execution_count": 18,
     "metadata": {},
     "output_type": "execute_result"
    }
   ],
   "source": [
    "reporter.metrics"
   ]
  }
 ],
 "metadata": {
  "kernelspec": {
   "display_name": "quantbt",
   "language": "python",
   "name": "python3"
  },
  "language_info": {
   "codemirror_mode": {
    "name": "ipython",
    "version": 3
   },
   "file_extension": ".py",
   "mimetype": "text/x-python",
   "name": "python",
   "nbconvert_exporter": "python",
   "pygments_lexer": "ipython3",
   "version": "3.10.13"
  }
 },
 "nbformat": 4,
 "nbformat_minor": 2
}
